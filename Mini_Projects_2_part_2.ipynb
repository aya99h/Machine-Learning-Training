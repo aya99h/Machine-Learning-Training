{
  "nbformat": 4,
  "nbformat_minor": 0,
  "metadata": {
    "colab": {
      "name": "Mini_Projects_2/ part 2.ipynb",
      "provenance": [],
      "include_colab_link": true
    },
    "kernelspec": {
      "name": "python3",
      "display_name": "Python 3"
    }
  },
  "cells": [
    {
      "cell_type": "markdown",
      "metadata": {
        "id": "view-in-github",
        "colab_type": "text"
      },
      "source": [
        "<a href=\"https://colab.research.google.com/github/aya99h/Machine-Learning-Training/blob/main/Mini_Projects_2_part_2.ipynb\" target=\"_parent\"><img src=\"https://colab.research.google.com/assets/colab-badge.svg\" alt=\"Open In Colab\"/></a>"
      ]
    },
    {
      "cell_type": "markdown",
      "metadata": {
        "id": "c2sSEq3uSurn"
      },
      "source": [
        "# Files and Exceptions"
      ]
    },
    {
      "cell_type": "code",
      "metadata": {
        "id": "VppOUgyU_Auv",
        "colab": {
          "base_uri": "https://localhost:8080/"
        },
        "outputId": "87019627-a615-425c-af4f-efaa277b178c"
      },
      "source": [
        "from google.colab import drive\n",
        "drive.mount('/content/drive')"
      ],
      "execution_count": 4,
      "outputs": [
        {
          "output_type": "stream",
          "text": [
            "Drive already mounted at /content/drive; to attempt to forcibly remount, call drive.mount(\"/content/drive\", force_remount=True).\n"
          ],
          "name": "stdout"
        }
      ]
    },
    {
      "cell_type": "markdown",
      "metadata": {
        "id": "qw2XyRs-TWIF"
      },
      "source": [
        "**8. Sum of Numbers** <br>\n",
        "Assume that a file containing a series of integers is named numbers.txt and exists on the Drive. Write a program that reads all of the numbers stored in the file and calculates their total.\n",
        "\n",
        "Find file here: <br>\n",
        "https://drive.google.com/file/d/1GaOURA7jp0NLvfaOfl4cCClKK_pv3q0r/view?usp=sharing"
      ]
    },
    {
      "cell_type": "code",
      "metadata": {
        "id": "B7GImG_lSu-u",
        "colab": {
          "base_uri": "https://localhost:8080/"
        },
        "outputId": "8123b27d-aab1-4b08-ef9f-7ec16ea53d58"
      },
      "source": [
        "def main():\n",
        "  numbers = open('/content/drive/MyDrive/numbers.txt', 'r')\n",
        "  total = 0.0\n",
        "  for num in numbers:\n",
        "    numb = float(num)\n",
        "    total +=numb\n",
        "  numbers.close()\n",
        "  print('The total is :', total)\n",
        "main()"
      ],
      "execution_count": 149,
      "outputs": [
        {
          "output_type": "stream",
          "text": [
            "The total is : 5931486514.0\n"
          ],
          "name": "stdout"
        }
      ]
    },
    {
      "cell_type": "markdown",
      "metadata": {
        "id": "gW0mWcdDVgK4"
      },
      "source": [
        "**9. Average of Numbers** <br>\n",
        "Assume that a file containing a series of integers is named numbers.txt and exists on the Drive. Write a program that calculates the average of all the numbers stored in\n",
        "the file"
      ]
    },
    {
      "cell_type": "code",
      "metadata": {
        "colab": {
          "base_uri": "https://localhost:8080/"
        },
        "id": "uIKPuMhJYTyD",
        "outputId": "e4e53b9e-a813-4e34-b209-00ed215d6f81"
      },
      "source": [
        "\n",
        "def main():\n",
        "  numbers = open('/content/drive/MyDrive/numbers.txt', 'r')\n",
        "  tot= 0.0\n",
        "  count = 0\n",
        "  for num in numbers:\n",
        "        numb = float(num)\n",
        "        count += 1\n",
        "        tot += numb\n",
        "  ava=tot/count\n",
        "  numbers.close()\n",
        "  print ('the average is :',ava)\n",
        "# Call the main function.\n",
        "main()"
      ],
      "execution_count": 151,
      "outputs": [
        {
          "output_type": "stream",
          "text": [
            "the average is : 102267008.86206897\n"
          ],
          "name": "stdout"
        }
      ]
    },
    {
      "cell_type": "markdown",
      "metadata": {
        "id": "vjchCYETVwPx"
      },
      "source": [
        "**10. Random Number File Writer**<br>\n",
        "Write a program that writes a series of random numbers to a file. Each random number should be in the range of 1 \n",
        "through 500. The application should let the user specify how\n",
        "many random numbers the file will hold.\n"
      ]
    },
    {
      "cell_type": "code",
      "metadata": {
        "id": "DCyba_BZVxLF",
        "colab": {
          "base_uri": "https://localhost:8080/"
        },
        "outputId": "1cf5e3a4-76fc-45cf-9f3b-ee2f4ec5767f"
      },
      "source": [
        "import random\n",
        "def main():\n",
        "  ranum=open('num.txt','w')\n",
        "  count=int(input(\"how many numbers do you want : \"))\n",
        "  for nu in range(count) :\n",
        "      number=random.randint(1,500)\n",
        "      ranum.write(str(number)+'\\n')\n",
        "      print(number)\n",
        "  ranum.close()\n",
        "main()\n"
      ],
      "execution_count": 72,
      "outputs": [
        {
          "output_type": "stream",
          "text": [
            "how many numbers do you want : 4\n",
            "476\n",
            "492\n",
            "66\n",
            "43\n"
          ],
          "name": "stdout"
        }
      ]
    },
    {
      "cell_type": "markdown",
      "metadata": {
        "id": "p75ZKqbXWMdY"
      },
      "source": [
        "**11.  Exception Handing** <br>\n",
        "Modify the program that you wrote for Exercise 9 so it handles the following exceptions: <br>\n",
        "* It should handle any IOError exceptions that are raised when the file is opened and data\n",
        "is read from it. <br>\n",
        "* It should handle any ValueError exceptions that are raised when the items that are read from the file are converted to a number."
      ]
    },
    {
      "cell_type": "code",
      "metadata": {
        "id": "22SOHQbrVxRE",
        "colab": {
          "base_uri": "https://localhost:8080/"
        },
        "outputId": "92d0d442-a143-437b-e384-f97bce7d7452"
      },
      "source": [
        "\n",
        "def main():\n",
        "  try:\n",
        "    numbers = open('/content/drive/MyDrive/numbers.txt', 'r')\n",
        "    tot= 0.0\n",
        "    count = 0\n",
        "    for num in numbers:\n",
        "          numb = float(num)\n",
        "          count += 1\n",
        "          tot += numb\n",
        "    ava=tot/count\n",
        "    numbers.close()\n",
        "    print ('the average is :',ava)\n",
        "  except IOError:\n",
        "    print('An error occured trying to read the file.')\n",
        "\n",
        "  except ValueError:\n",
        "    print('Non-numeric data found in the file.')\n",
        "\n",
        "  except:\n",
        "    print('An error occured.')\n",
        "\n",
        "main()"
      ],
      "execution_count": 155,
      "outputs": [
        {
          "output_type": "stream",
          "text": [
            "the average is : 102267008.86206897\n"
          ],
          "name": "stdout"
        }
      ]
    }
  ]
}